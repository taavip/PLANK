{
  "nbformat": 4,
  "nbformat_minor": 0,
  "metadata": {
    "colab": {
      "provenance": [],
      "authorship_tag": "ABX9TyOHVR09VXbjYZx0NCt5OkV3",
      "include_colab_link": true
    },
    "kernelspec": {
      "name": "python3",
      "display_name": "Python 3"
    },
    "language_info": {
      "name": "python"
    }
  },
  "cells": [
    {
      "cell_type": "markdown",
      "metadata": {
        "id": "view-in-github",
        "colab_type": "text"
      },
      "source": [
        "<a href=\"https://colab.research.google.com/github/taavip/PLANK/blob/main/planeering_API_detail.ipynb\" target=\"_parent\"><img src=\"https://colab.research.google.com/assets/colab-badge.svg\" alt=\"Open In Colab\"/></a>"
      ]
    },
    {
      "cell_type": "code",
      "execution_count": null,
      "metadata": {
        "id": "FkOfSseJTjcf"
      },
      "outputs": [],
      "source": [
        "import requests\n",
        "\n",
        "def get_planeering_detail(sysidList):\n",
        "    base_url = \"https://planeeringud.ee/v1/planeering/\"\n",
        "    endpoint = f\"{sysidList}\"\n",
        "\n",
        "    headers = {\n",
        "        'Accept': 'application/json',\n",
        "        'Content-Type': 'application/json',\n",
        "    }\n",
        "\n",
        "    try:\n",
        "        response = requests.get(f\"{base_url}{endpoint}\", headers=headers)\n",
        "\n",
        "        if response.status_code == 200:\n",
        "            # Päring õnnestus, saame vastuse JSON kujul\n",
        "            data = response.json()\n",
        "            return data\n",
        "        elif response.status_code == 403:\n",
        "            print(\"Viga päringul. Ligipääs keelatud. Kontrollige autentimist ja autoriseerimist.\")\n",
        "        elif response.status_code == 404:\n",
        "            print(\"Planeeringut ei leitud. Kontrollige, kas planeeringu number on õige.\")\n",
        "        elif response.status_code == 401:\n",
        "            print(\"Viga päringul. Autoriseerimata juurdepääs. Kontrollige autentimist.\")\n",
        "        elif response.status_code == 500:\n",
        "            print(\"Serveri viga. Kontrollige API-d või proovige hiljem uuesti.\")\n",
        "        else:\n",
        "            print(f\"Viga päringul. Staatuskood: {response.status_code}\")\n",
        "    except Exception as e:\n",
        "        print(f\"Viga: {e}\")\n",
        "\n",
        "# Kasuta funktsiooni päringu tegemiseks\n",
        "sysidList = \"10100008\"  # Muuda vastavalt soovitud planeeringu numbrile\n",
        "planeering_detail = get_planeering_detail(sysidList)\n",
        "\n",
        "# Tee midagi saadud andmetega, nt prindi need välja\n",
        "print(planeering_detail)\n"
      ]
    },
    {
      "cell_type": "code",
      "source": [],
      "metadata": {
        "id": "5NY5QYPDU8Qu"
      },
      "execution_count": null,
      "outputs": []
    }
  ]
}